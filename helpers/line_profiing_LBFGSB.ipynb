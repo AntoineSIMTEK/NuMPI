{
 "cells": [
  {
   "cell_type": "code",
   "execution_count": 3,
   "metadata": {},
   "outputs": [],
   "source": [
    "import sys\n",
    "sys.path.append(\"/Users/antoines/NuMPI\")\n",
    "sys.path.append(\"/Users/antoines/NuMPI/tests/\")"
   ]
  },
  {
   "cell_type": "code",
   "execution_count": 4,
   "metadata": {},
   "outputs": [
    {
     "name": "stdout",
     "output_type": "stream",
     "text": [
      "/Users/antoines/NuMPI\n"
     ]
    }
   ],
   "source": [
    "cd /Users/antoines/NuMPI"
   ]
  },
  {
   "cell_type": "code",
   "execution_count": 3,
   "metadata": {},
   "outputs": [],
   "source": [
    "%load_ext snakeviz"
   ]
  },
  {
   "cell_type": "code",
   "execution_count": 4,
   "metadata": {},
   "outputs": [
    {
     "name": "stdout",
     "output_type": "stream",
     "text": [
      "27\n",
      " \n",
      "*** Profile stats marshalled to file '/var/folders/l8/vsnk8lcd1p11f5xmv3x0qmg40000gn/T/tmpn194wj0g'. \n"
     ]
    }
   ],
   "source": [
    "%%snakeviz\n",
    "#%%writefile helpers/temp_LBFGS_performance_test.py\n",
    "\n",
    "from NuMPI.Optimization import LBFGS\n",
    "from MPI_minimization_problems import MPI_Quadratic\n",
    "import numpy as np\n",
    "import scipy\n",
    "\n",
    "n = 10**6\n",
    "\n",
    "Objective = MPI_Quadratic(n)\n",
    "result = scipy.optimize.minimize(Objective.f,Objective.startpoint(),\n",
    "                                 jac=Objective.grad,method=LBFGS,\n",
    "                                 options ={\"gtol\":1e-6,\"pnp\":Objective.pnp})\n",
    "assert result.success\n",
    "print(result.nit)"
   ]
  },
  {
   "cell_type": "markdown",
   "metadata": {},
   "source": [
    "A lot of time is spend in concatenate and numpy.roll, but at which lines exactly ?"
   ]
  },
  {
   "cell_type": "code",
   "execution_count": 5,
   "metadata": {},
   "outputs": [
    {
     "name": "stdout",
     "output_type": "stream",
     "text": [
      "The line_profiler extension is already loaded. To reload it, use:\n",
      "  %reload_ext line_profiler\n"
     ]
    }
   ],
   "source": [
    "%load_ext line_profiler"
   ]
  },
  {
   "cell_type": "code",
   "execution_count": 6,
   "metadata": {},
   "outputs": [
    {
     "name": "stdout",
     "output_type": "stream",
     "text": [
      "27\n",
      "\n",
      "*** Profile printout saved to text file 'lprunprofile.txt'. \n"
     ]
    }
   ],
   "source": [
    "from NuMPI.Optimization import LBFGS\n",
    "from MPI_minimization_problems import MPI_Quadratic\n",
    "import numpy as np\n",
    "import scipy\n",
    "\n",
    "\n",
    "def do(n):\n",
    "    \n",
    "    Objective = MPI_Quadratic(n)\n",
    "    result = scipy.optimize.minimize(Objective.f,Objective.startpoint(),\n",
    "                                     jac=Objective.grad,method=LBFGS,\n",
    "                                     options ={\"gtol\":1e-6,\"pnp\":Objective.pnp})\n",
    "    assert result.success\n",
    "    print(result.nit)\n",
    "    \n",
    "%lprun -f LBFGS -T lprunprofile.txt do(10**6)"
   ]
  },
  {
   "cell_type": "code",
   "execution_count": 7,
   "metadata": {},
   "outputs": [],
   "source": [
    "!sublime lprunprofile.txt"
   ]
  },
  {
   "cell_type": "markdown",
   "metadata": {},
   "source": [
    "Result: \n",
    "\n",
    "51.9 % of time spent in   \n",
    "\n",
    "```\n",
    "Hgrad = gamma * grad + np.hstack([S, gamma * Y]).dot(p) #TODO\n",
    "```\n",
    "Now the question: what is slow here: the hstack or the dot ?"
   ]
  },
  {
   "cell_type": "markdown",
   "metadata": {},
   "source": [
    "Now I split the ghstack and the dot\n",
    "```\n",
    " 0.0 %    p = np.vstack([Rinv.T.dot(D + gamma * YTY).dot(RiSg) - gamma * Rinv.T.dot(YTgrad), - RiSg]) \n",
    "                                       \n",
    " 46.2 %   temphstack=np.hstack([S, gamma * Y])\n",
    " 5.2  %   Hgrad = gamma * grad + temphstack.dot(p) #TODO\n",
    "```"
   ]
  },
  {
   "cell_type": "markdown",
   "metadata": {},
   "source": [
    "Conclusion: it was the hstack the problem. \n",
    "And actually it isn't necessary at all"
   ]
  },
  {
   "cell_type": "markdown",
   "metadata": {},
   "source": [
    "Now I suppressed the concatenation:"
   ]
  },
  {
   "cell_type": "markdown",
   "metadata": {},
   "source": [
    " ```\n",
    " 12.5 %    Hgrad = gamma * grad + S.dot(p1)+ gamma * Y.dot(p2)\n",
    " ```"
   ]
  },
  {
   "cell_type": "code",
   "execution_count": null,
   "metadata": {},
   "outputs": [],
   "source": []
  }
 ],
 "metadata": {
  "kernelspec": {
   "display_name": "Python 3",
   "language": "python",
   "name": "python3"
  },
  "language_info": {
   "codemirror_mode": {
    "name": "ipython",
    "version": 3
   },
   "file_extension": ".py",
   "mimetype": "text/x-python",
   "name": "python",
   "nbconvert_exporter": "python",
   "pygments_lexer": "ipython3",
   "version": "3.7.0"
  }
 },
 "nbformat": 4,
 "nbformat_minor": 2
}
