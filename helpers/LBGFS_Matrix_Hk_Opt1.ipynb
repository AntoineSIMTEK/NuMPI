{
 "cells": [
  {
   "cell_type": "code",
   "execution_count": 1,
   "metadata": {},
   "outputs": [],
   "source": [
    "import numpy as np\n",
    "import matplotlib\n",
    "matplotlib.use(\"MACOSX\")\n",
    "import matplotlib.pyplot as plt\n",
    "import scipy.optimize as optimize\n"
   ]
  },
  {
   "cell_type": "code",
   "execution_count": 2,
   "metadata": {},
   "outputs": [],
   "source": [
    "def test_fun(x):\n",
    "    x.shape=(-1, 1)\n",
    "    return .5*x[0, 0]**2 + x[0, 0]* np.cos(x[1, 0])\n",
    "\n",
    "def test_jac(x):\n",
    "    x.shape=(-1, 1)\n",
    "    return np.array([[x[0, 0] + np.cos(x[1, 0])],\n",
    "                      [-x[0, 0] * np.sin(x[1, 0])]])\n",
    "\n",
    "def test_hess(x):\n",
    "    x.shape=(-1, 1)\n",
    "    return np.array([[           1.,        -np.sin(x[1, 0])],\n",
    "                     [-np.sin(x[1, 0]), -x[0, 0] * np.cos(x[1, 0])]])"
   ]
  },
  {
   "cell_type": "code",
   "execution_count": 3,
   "metadata": {},
   "outputs": [],
   "source": [
    "fig,ax = plt.subplots()\n",
    "\n",
    "xg, yg = np.linspace(-2, 2, 51), np.linspace(-6, 6, 51)\n",
    "def mat_fun(x_g, x_):\n",
    "    Z = np.zeros((xg.size, yg.size))\n",
    "\n",
    "    for i in range(Z.shape[0]):\n",
    "        for j in range(Z.shape[1]):\n",
    "            Z[j, i] = test_fun(np.array([xg[i], yg[j]]))\n",
    "    return Z\n",
    "X, Y = np.meshgrid(xg,yg)\n",
    "ax.contour(X, Y, mat_fun(xg, yg))\n",
    "fig.show()"
   ]
  },
  {
   "cell_type": "code",
   "execution_count": 4,
   "metadata": {},
   "outputs": [],
   "source": [
    "n = 2 # Dimension of x"
   ]
  },
  {
   "cell_type": "code",
   "execution_count": 5,
   "metadata": {},
   "outputs": [],
   "source": [
    "gamma = 1\n",
    "m = 3\n",
    "S = np.zeros((n,0))\n",
    "Y = np.zeros((n,0))\n",
    "R = np.zeros((0,0))\n",
    "STgrad=np.array((0,m))\n",
    "YTgrad=np.array((0,m))"
   ]
  },
  {
   "cell_type": "code",
   "execution_count": 6,
   "metadata": {},
   "outputs": [
    {
     "data": {
      "text/plain": [
       "(2, 0)"
      ]
     },
     "execution_count": 6,
     "metadata": {},
     "output_type": "execute_result"
    }
   ],
   "source": [
    "S.shape"
   ]
  },
  {
   "cell_type": "code",
   "execution_count": 7,
   "metadata": {},
   "outputs": [],
   "source": [
    "# Initial history:\n",
    "x_old = np.array([[0],[1]])\n",
    "grad_old = test_jac(x_old)\n",
    "\n",
    "# line search\n",
    "step =optimize.minimize_scalar(fun = lambda alpha : test_fun(x_old  - grad_old * alpha) ,bounds=(0,2),method=\"bounded\" ).x\n",
    "x     = x_old - grad_old * step\n",
    "assert test_fun(x) < test_fun(x_old)\n",
    "grad = test_jac(x)\n",
    "\n",
    "k=1"
   ]
  },
  {
   "cell_type": "raw",
   "metadata": {},
   "source": [
    "alpha = np.linspace(0,2)\n",
    "plt.plot(alpha,[test_fun(x_old  - grad_old * a) for a in alpha])\n",
    "plt.axvline(step)"
   ]
  },
  {
   "cell_type": "markdown",
   "metadata": {},
   "source": [
    "# Start loop"
   ]
  },
  {
   "cell_type": "code",
   "execution_count": 41,
   "metadata": {},
   "outputs": [
    {
     "name": "stdout",
     "output_type": "stream",
     "text": [
      "S: [[-0.69665812  0.1998545   0.03863815]\n",
      " [-0.8279051  -0.20718687  0.03331417]]\n",
      "Y: [[-0.25173224  0.21401065  0.03925223]\n",
      " [-0.24282335 -0.24821198  0.03461154]]\n"
     ]
    }
   ],
   "source": [
    "# Update Sk,Yk\n",
    "\n",
    "if k > m:\n",
    "    S=np.roll(S,-1)\n",
    "    S[:,-1] = (x - x_old).flat\n",
    "    Y=np.roll(Y,-1)\n",
    "    Y[:,-1]  = (grad - grad_old).flat\n",
    "    \n",
    "else :\n",
    "    S = np.hstack([S,x - x_old])\n",
    "    Y = np.hstack([Y,grad - grad_old])\n",
    "print(\"S: {}\".format(S))\n",
    "print(\"Y: {}\".format(Y))"
   ]
  },
  {
   "cell_type": "code",
   "execution_count": 42,
   "metadata": {},
   "outputs": [
    {
     "data": {
      "text/plain": [
       "<numpy.flatiter at 0x7f811a9d8e00>"
      ]
     },
     "execution_count": 42,
     "metadata": {},
     "output_type": "execute_result"
    }
   ],
   "source": [
    "(x - x_old).flat"
   ]
  },
  {
   "cell_type": "code",
   "execution_count": 43,
   "metadata": {},
   "outputs": [],
   "source": [
    "#2.\n",
    "grad2prev = grad2\n",
    "grad2 = np.sum(np.asarray(grad)**2) #ok\n",
    "YTgrad_prev = STgrad.copy() # scalar\n",
    "YTgrad_prev = YTgrad.copy()\n",
    "STgrad = np.dot(S.T,grad)\n",
    "YTgrad = np.dot(Y.T,grad)"
   ]
  },
  {
   "cell_type": "code",
   "execution_count": 46,
   "metadata": {},
   "outputs": [
    {
     "name": "stdout",
     "output_type": "stream",
     "text": [
      "[[4.03258101e-04]\n",
      " [6.73677595e-04]\n",
      " [6.08274186e-09]]\n",
      "[[ 4.57173114e-05]\n",
      " [ 7.68168192e-04]\n",
      " [-1.35691840e-06]]\n"
     ]
    }
   ],
   "source": [
    "print(STgrad)\n",
    "print(YTgrad)"
   ]
  },
  {
   "cell_type": "code",
   "execution_count": 47,
   "metadata": {},
   "outputs": [],
   "source": [
    "#3. # TOOPTIMIZE\n",
    "sprevTgradprev =  np.dot(S[:,-1].T,grad_old) # sk-1T gk-1\n"
   ]
  },
  {
   "cell_type": "code",
   "execution_count": 49,
   "metadata": {},
   "outputs": [
    {
     "name": "stdout",
     "output_type": "stream",
     "text": [
      "before\n",
      "R: [[ 0.37640599  0.05640371 -0.05600046]\n",
      " [ 0.          0.09419725  0.00067368]\n",
      " [ 0.          0.          0.00266969]]\n",
      "[[ 4.57173114e-05]\n",
      " [ 7.68168192e-04]\n",
      " [-1.35691840e-06]]\n",
      "[[0.00383793]\n",
      " [0.01833126]\n",
      " [0.00095877]]\n"
     ]
    },
    {
     "ename": "AttributeError",
     "evalue": "module 'numpy.testing' has no attribute 'assert_all_close'",
     "output_type": "error",
     "traceback": [
      "\u001b[0;31m---------------------------------------------------------------------------\u001b[0m",
      "\u001b[0;31mAttributeError\u001b[0m                            Traceback (most recent call last)",
      "\u001b[0;32m<ipython-input-49-63238fa14116>\u001b[0m in \u001b[0;36m<module>\u001b[0;34m\u001b[0m\n\u001b[1;32m     29\u001b[0m \u001b[0;32melse\u001b[0m\u001b[0;34m:\u001b[0m\u001b[0;34m\u001b[0m\u001b[0m\n\u001b[1;32m     30\u001b[0m     \u001b[0mYTY\u001b[0m \u001b[0;34m=\u001b[0m \u001b[0mnp\u001b[0m\u001b[0;34m.\u001b[0m\u001b[0mdot\u001b[0m\u001b[0;34m(\u001b[0m\u001b[0mY\u001b[0m\u001b[0;34m.\u001b[0m\u001b[0mT\u001b[0m\u001b[0;34m,\u001b[0m\u001b[0mY\u001b[0m\u001b[0;34m)\u001b[0m\u001b[0;34m\u001b[0m\u001b[0m\n\u001b[0;32m---> 31\u001b[0;31m \u001b[0mnp\u001b[0m\u001b[0;34m.\u001b[0m\u001b[0mtesting\u001b[0m\u001b[0;34m.\u001b[0m\u001b[0massert_all_close\u001b[0m\u001b[0;34m(\u001b[0m\u001b[0mYTY\u001b[0m\u001b[0;34m,\u001b[0m\u001b[0mnp\u001b[0m\u001b[0;34m.\u001b[0m\u001b[0mdot\u001b[0m\u001b[0;34m(\u001b[0m\u001b[0mY\u001b[0m\u001b[0;34m.\u001b[0m\u001b[0mT\u001b[0m\u001b[0;34m,\u001b[0m\u001b[0mY\u001b[0m\u001b[0;34m)\u001b[0m\u001b[0;34m)\u001b[0m\u001b[0;34m\u001b[0m\u001b[0m\n\u001b[0m\u001b[1;32m     32\u001b[0m \u001b[0;34m\u001b[0m\u001b[0m\n\u001b[1;32m     33\u001b[0m \u001b[0mprint\u001b[0m\u001b[0;34m(\u001b[0m\u001b[0;34m\"after\"\u001b[0m\u001b[0;34m)\u001b[0m\u001b[0;34m\u001b[0m\u001b[0m\n",
      "\u001b[0;31mAttributeError\u001b[0m: module 'numpy.testing' has no attribute 'assert_all_close'"
     ]
    }
   ],
   "source": [
    "#4. \n",
    "ykm12 = np.dot(Y[:,-1].T,Y[:,-1])\n",
    "\n",
    "print(\"before\")\n",
    "print(\"R: {}\".format(R))\n",
    "if k > m:\n",
    "    R = np.roll(R,(-1,-1),axis=(0,1))# mxm Matrix hold by all Processors \n",
    "    R[-1,:] = 0\n",
    "    R[:,-1] = np.dot(S.T, Y[:,-1])# TOOPTIMIZE\n",
    "elif k ==1:\n",
    "    R= np.array(np.dot(S.T,Y))\n",
    "else :\n",
    "    R = np.vstack([R, np.zeros(k-1)])\n",
    "    R = np.hstack([R,np.dot(S.T, Y[:,-1]).reshape(k,1)])\n",
    "    \n",
    "if k> m: \n",
    "    D = np.roll(D,(-1,-1),axis=(0,1)) \n",
    "    #D[-1,-1] = np.dot(Y[:,-1],Y[:,-1])# yk-1Tyk-1 # TOOPTIMIZE\n",
    "    D[-1,-1] = grad2prev - grad2 + 2 * YTgrad[-1]\n",
    "    np.testing.assert_almost_equal(D[-1,-1],np.dot(Y[:,-1],Y[:,-1]))\n",
    "else:\n",
    "    D = np.diag(np.einsum(\"ik,ik -> k\",S,Y))\n",
    "\n",
    "#YTY = np.dot(Y.T,Y) #TOOPTIMIZE\n",
    "if k> m :\n",
    "    YTY = np.roll(YTY,(-1,-1),axis=(0,1)) \n",
    "    print(YTgrad)\n",
    "    print(YTgrad_prev)\n",
    "    YTY[-1,:-1] = YTY[:-1,-1] = (YTgrad[:-1] - YTgrad_prev[1:]).flat\n",
    "    YTY[-1,-1] = D[-1,-1]\n",
    "else:\n",
    "    YTY = np.dot(Y.T,Y)\n",
    "np.testing.assert_allclose(YTY,np.dot(Y.T,Y))\n",
    "\n",
    "print(\"after\")\n",
    "print(\"R: {}\".format(R))\n",
    "print(\"YTY: {}\".format(YTY))\n",
    "print(\"D: {}\".format(D))"
   ]
  },
  {
   "cell_type": "code",
   "execution_count": 50,
   "metadata": {},
   "outputs": [
    {
     "data": {
      "text/plain": [
       "array([[ 4.57173114e-05],\n",
       "       [ 7.68168192e-04],\n",
       "       [-1.35691840e-06]])"
      ]
     },
     "execution_count": 50,
     "metadata": {},
     "output_type": "execute_result"
    }
   ],
   "source": [
    "YTgrad"
   ]
  },
  {
   "cell_type": "code",
   "execution_count": 51,
   "metadata": {},
   "outputs": [],
   "source": [
    "#5.\n",
    "gamma = D[-1,-1] / ykm12# n.b. D[-1,-1] = sk-1T yk-1 = yk-1T sk-1"
   ]
  },
  {
   "cell_type": "code",
   "execution_count": 52,
   "metadata": {},
   "outputs": [],
   "source": [
    "#6. \n",
    "Rinv = np.linalg.inv(R) # TODO: profitiert das davon dass R eine Dreiecksmatrix ist ?\n",
    "\n",
    "RiSg = Rinv.dot(STgrad)\n",
    "\n",
    "p = np.vstack([Rinv.T.dot(D+gamma*YTY).dot(RiSg) - gamma * Rinv.T.dot(YTgrad)\n",
    "               ,- RiSg])"
   ]
  },
  {
   "cell_type": "code",
   "execution_count": 53,
   "metadata": {},
   "outputs": [],
   "source": [
    "#7.\n",
    "Hgrad = gamma*grad + np.hstack([S,gamma*Y]).dot(p) "
   ]
  },
  {
   "cell_type": "code",
   "execution_count": 54,
   "metadata": {},
   "outputs": [
    {
     "ename": "AssertionError",
     "evalue": "",
     "output_type": "error",
     "traceback": [
      "\u001b[0;31m---------------------------------------------------------------------------\u001b[0m",
      "\u001b[0;31mAssertionError\u001b[0m                            Traceback (most recent call last)",
      "\u001b[0;32m<ipython-input-54-b23ccdfd732c>\u001b[0m in \u001b[0;36m<module>\u001b[0;34m\u001b[0m\n\u001b[1;32m      4\u001b[0m \u001b[0mx_old\u001b[0m\u001b[0;34m=\u001b[0m \u001b[0mx\u001b[0m\u001b[0;34m\u001b[0m\u001b[0m\n\u001b[1;32m      5\u001b[0m \u001b[0mx\u001b[0m     \u001b[0;34m=\u001b[0m \u001b[0mx\u001b[0m  \u001b[0;34m-\u001b[0m \u001b[0mHgrad\u001b[0m \u001b[0;34m*\u001b[0m \u001b[0malpha\u001b[0m\u001b[0;34m\u001b[0m\u001b[0m\n\u001b[0;32m----> 6\u001b[0;31m \u001b[0;32massert\u001b[0m \u001b[0mtest_fun\u001b[0m\u001b[0;34m(\u001b[0m\u001b[0mx\u001b[0m\u001b[0;34m)\u001b[0m \u001b[0;34m<\u001b[0m \u001b[0mtest_fun\u001b[0m\u001b[0;34m(\u001b[0m\u001b[0mx_old\u001b[0m\u001b[0;34m)\u001b[0m\u001b[0;34m\u001b[0m\u001b[0m\n\u001b[0m\u001b[1;32m      7\u001b[0m \u001b[0mgrad_old\u001b[0m\u001b[0;34m=\u001b[0m\u001b[0mgrad\u001b[0m\u001b[0;34m\u001b[0m\u001b[0m\n\u001b[1;32m      8\u001b[0m \u001b[0mgrad\u001b[0m \u001b[0;34m=\u001b[0m \u001b[0mtest_jac\u001b[0m\u001b[0;34m(\u001b[0m\u001b[0mx\u001b[0m\u001b[0;34m)\u001b[0m\u001b[0;34m\u001b[0m\u001b[0m\n",
      "\u001b[0;31mAssertionError\u001b[0m: "
     ]
    }
   ],
   "source": [
    "# linesearch\n",
    "\n",
    "alpha =optimize.minimize_scalar(fun = lambda alpha : test_fun(x  - Hgrad * alpha) ,bounds=(0,10),method=\"bounded\" ).x\n",
    "x_old= x \n",
    "x     = x  - Hgrad * alpha\n",
    "assert test_fun(x) < test_fun(x_old)\n",
    "grad_old=grad\n",
    "grad = test_jac(x)\n",
    "\n",
    "ax.plot(x[0],x[1],\"+k\")\n",
    "ax.annotate(k,x)\n",
    "k = k+1\n",
    "fig.canvas.draw()"
   ]
  },
  {
   "cell_type": "code",
   "execution_count": null,
   "metadata": {},
   "outputs": [],
   "source": [
    "np.testing"
   ]
  },
  {
   "cell_type": "code",
   "execution_count": null,
   "metadata": {},
   "outputs": [],
   "source": []
  }
 ],
 "metadata": {
  "kernelspec": {
   "display_name": "Python 3",
   "language": "python",
   "name": "python3"
  },
  "language_info": {
   "codemirror_mode": {
    "name": "ipython",
    "version": 3
   },
   "file_extension": ".py",
   "mimetype": "text/x-python",
   "name": "python",
   "nbconvert_exporter": "python",
   "pygments_lexer": "ipython3",
   "version": "3.7.0"
  }
 },
 "nbformat": 4,
 "nbformat_minor": 2
}
